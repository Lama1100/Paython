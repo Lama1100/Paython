{
 "cells": [
  {
   "cell_type": "code",
   "execution_count": 1,
   "id": "f49bd1db-efe5-43d0-90a0-3fa713c17b3a",
   "metadata": {},
   "outputs": [
    {
     "data": {
      "text/plain": [
       "int"
      ]
     },
     "execution_count": 1,
     "metadata": {},
     "output_type": "execute_result"
    }
   ],
   "source": [
    "x=5\n",
    "type(x)"
   ]
  },
  {
   "cell_type": "code",
   "execution_count": 3,
   "id": "74665718-7bfc-47eb-9dfb-4592cc735124",
   "metadata": {},
   "outputs": [
    {
     "data": {
      "text/plain": [
       "float"
      ]
     },
     "execution_count": 3,
     "metadata": {},
     "output_type": "execute_result"
    }
   ],
   "source": [
    "y=3.1\n",
    "type(y)"
   ]
  },
  {
   "cell_type": "code",
   "execution_count": 5,
   "id": "658334ac-75b2-470b-b5a0-4df58ee17724",
   "metadata": {},
   "outputs": [
    {
     "data": {
      "text/plain": [
       "str"
      ]
     },
     "execution_count": 5,
     "metadata": {},
     "output_type": "execute_result"
    }
   ],
   "source": [
    "name=\"Lama\"\n",
    "type(name)"
   ]
  },
  {
   "cell_type": "code",
   "execution_count": 9,
   "id": "bfad1d6b-8365-427b-8db4-e51ba3ec4ebd",
   "metadata": {},
   "outputs": [
    {
     "data": {
      "text/plain": [
       "bool"
      ]
     },
     "execution_count": 9,
     "metadata": {},
     "output_type": "execute_result"
    }
   ],
   "source": [
    "is_active=True\n",
    "type(is_active)"
   ]
  },
  {
   "cell_type": "code",
   "execution_count": 23,
   "id": "3c35c36c-3e02-4151-9f32-c8eaf8ac3521",
   "metadata": {},
   "outputs": [
    {
     "name": "stdout",
     "output_type": "stream",
     "text": [
      "a + b = 20\n",
      "10 + 10 = 30\n",
      "a + b =20\n",
      "10+10=20\n",
      "a + b =20\n"
     ]
    }
   ],
   "source": [
    "#Arthimetic\n",
    "a=10\n",
    "b=10\n",
    "s=a+b\n",
    "print(f\"a + b = {s}\")\n",
    "z=10+20\n",
    "print(f\"10 + 10 = {z}\")\n",
    "print(\"a + b =\"+str(s))\n",
    "print(f\"{a}+{b}={s}\")\n",
    "print(\"a + b ={}\".format(s))"
   ]
  },
  {
   "cell_type": "code",
   "execution_count": 13,
   "id": "82ed623b-089f-4148-98d0-914de5cbf40e",
   "metadata": {},
   "outputs": [
    {
     "data": {
      "text/plain": [
       "False"
      ]
     },
     "execution_count": 13,
     "metadata": {},
     "output_type": "execute_result"
    }
   ],
   "source": [
    "#Comparison\n",
    "a=30\n",
    "b=10\n",
    "b>a"
   ]
  },
  {
   "cell_type": "code",
   "execution_count": 15,
   "id": "f97479e9-ad43-44d2-88bd-43abc1020d05",
   "metadata": {},
   "outputs": [
    {
     "data": {
      "text/plain": [
       "True"
      ]
     },
     "execution_count": 15,
     "metadata": {},
     "output_type": "execute_result"
    }
   ],
   "source": [
    "#Logical\n",
    "a=30\n",
    "b=10\n",
    "(a>b)and(10>=9)"
   ]
  },
  {
   "cell_type": "code",
   "execution_count": 29,
   "id": "34e0e93c-1bac-4bd5-abbe-324fc29a9710",
   "metadata": {},
   "outputs": [
    {
     "name": "stdout",
     "output_type": "stream",
     "text": [
      "10 is bigger than x\n"
     ]
    }
   ],
   "source": [
    "#If\n",
    "x=5\n",
    "if x < 10:\n",
    "   print(\"10 is bigger than x\")"
   ]
  },
  {
   "cell_type": "code",
   "execution_count": 33,
   "id": "bbd53131-fe2d-48a7-9519-c10e1b335abd",
   "metadata": {},
   "outputs": [
    {
     "name": "stdout",
     "output_type": "stream",
     "text": [
      "x is bigger than 5\n"
     ]
    }
   ],
   "source": [
    "#elif\n",
    "x=9\n",
    "if x<5:\n",
    "  print(\"x is less than 5\")\n",
    "elif x>5:\n",
    "  print (\"x is bigger than 5\")"
   ]
  },
  {
   "cell_type": "code",
   "execution_count": 37,
   "id": "812af5d8-8a6c-4e03-b936-2826e025966e",
   "metadata": {},
   "outputs": [
    {
     "name": "stdout",
     "output_type": "stream",
     "text": [
      "x is less than 10\n"
     ]
    }
   ],
   "source": [
    "#if-else\n",
    "x=5\n",
    "if x>10:\n",
    "  print(\"x is bigger than 10\")\n",
    "else: print(\"x is less than 10\")\n"
   ]
  },
  {
   "cell_type": "code",
   "execution_count": 45,
   "id": "d9ff1b83-ee37-4a6e-a557-aa333ee4dd0b",
   "metadata": {},
   "outputs": [
    {
     "name": "stdout",
     "output_type": "stream",
     "text": [
      "x equals 10\n"
     ]
    }
   ],
   "source": [
    "#if-elif-else\n",
    "x=10\n",
    "if x>10:\n",
    " print(\"x is bigger than 10\")\n",
    "elif x<10:\n",
    "  print (\"x is less than 10\")\n",
    "else: print(\"x equals 10\")"
   ]
  },
  {
   "cell_type": "code",
   "execution_count": 57,
   "id": "32560eaf-35df-43e0-9fee-bc91cba234bd",
   "metadata": {},
   "outputs": [
    {
     "name": "stdout",
     "output_type": "stream",
     "text": [
      "0\n",
      "1\n",
      "2\n",
      "3\n",
      "4\n",
      "1\n",
      "2\n",
      "3\n",
      "4\n",
      "5\n",
      "6\n",
      "7\n",
      "8\n",
      "9\n",
      "10\n"
     ]
    }
   ],
   "source": [
    "#for loop\n",
    "for i in range(1,11):\n",
    "  print(i)    "
   ]
  },
  {
   "cell_type": "code",
   "execution_count": 65,
   "id": "35a0b5db-985e-4be1-98da-d1a5959bfd06",
   "metadata": {},
   "outputs": [
    {
     "name": "stdout",
     "output_type": "stream",
     "text": [
      "2\n",
      "4\n",
      "6\n",
      "8\n",
      "10\n",
      "12\n",
      "14\n",
      "16\n",
      "18\n",
      "20\n",
      "22\n",
      "24\n",
      "26\n",
      "28\n",
      "30\n",
      "32\n",
      "34\n",
      "36\n",
      "38\n",
      "40\n",
      "42\n",
      "44\n",
      "46\n",
      "48\n"
     ]
    }
   ],
   "source": [
    "#for loop with if\n",
    "for i in range(1,50):\n",
    "  if i%2 == 0:\n",
    "    print(i)"
   ]
  },
  {
   "cell_type": "code",
   "execution_count": 81,
   "id": "363b49b1-44e8-4a94-90ee-88db231a99ba",
   "metadata": {},
   "outputs": [
    {
     "name": "stdout",
     "output_type": "stream",
     "text": [
      "0\n",
      "1\n",
      "2\n",
      "3\n",
      "4\n"
     ]
    }
   ],
   "source": [
    "#while loop\n",
    "count=0\n",
    "while count<5:\n",
    "      print(count)\n",
    "      count+=1"
   ]
  },
  {
   "cell_type": "code",
   "execution_count": 91,
   "id": "a17f6f87-66d1-4e45-bb04-3ed808cc6930",
   "metadata": {},
   "outputs": [
    {
     "name": "stdout",
     "output_type": "stream",
     "text": [
      "Hello, Lama!\n"
     ]
    }
   ],
   "source": [
    "def F1(name):\n",
    "    print(f\"Hello, {name}!\")\n",
    "    \n",
    "F1(\"Lama\")    "
   ]
  },
  {
   "cell_type": "code",
   "execution_count": 93,
   "id": "352ff5b4-4793-4a48-93a1-3f7f4a816092",
   "metadata": {
    "scrolled": true
   },
   "outputs": [
    {
     "name": "stdout",
     "output_type": "stream",
     "text": [
      "Lama Alamri\n"
     ]
    }
   ],
   "source": [
    "def F2(fname,lname):\n",
    "    print(f\"{fname} {lname}\")\n",
    "\n",
    "F2(\"Lama\",\"Alamri\")    "
   ]
  },
  {
   "cell_type": "code",
   "execution_count": 95,
   "id": "292dabb2-8921-4af0-abcd-c455f4ccd7cd",
   "metadata": {},
   "outputs": [
    {
     "name": "stdin",
     "output_type": "stream",
     "text": [
      "enter name: lama\n"
     ]
    }
   ],
   "source": [
    "name=input(\"enter name:\")"
   ]
  },
  {
   "cell_type": "code",
   "execution_count": 133,
   "id": "60e9f178-51b3-4e25-8eee-54220e648f09",
   "metadata": {},
   "outputs": [
    {
     "name": "stdin",
     "output_type": "stream",
     "text": [
      "first number 5\n",
      "choose the operater -\n",
      "seconed number 5\n"
     ]
    },
    {
     "name": "stdout",
     "output_type": "stream",
     "text": [
      "5-5=0\n"
     ]
    }
   ],
   "source": [
    "num1=int(input(\"first number\"))\n",
    "op=str(input(\"choose the operater\"))\n",
    "num2=int(input(\"seconed number\"))\n",
    "\n",
    "if op==\"+\":\n",
    "       print(f\"{num1}+{num2}={num1+num2}\")\n",
    "elif op==\"-\":\n",
    "       print(f\"{num1}-{num2}={num1-num2}\")\n",
    "elif op==\"*\":\n",
    "       print(f\"{num1}*{num2}={num1*num2}\")\n",
    "elif op==\"/\":\n",
    "       print(f\"{num1}/{num2}={num1/num2}\")\n",
    "else: \n",
    "       print(\"The operater in incorrect\")"
   ]
  },
  {
   "cell_type": "code",
   "execution_count": 131,
   "id": "d4035e5c-ad97-4d36-afbd-063104069b5e",
   "metadata": {},
   "outputs": [
    {
     "name": "stdin",
     "output_type": "stream",
     "text": [
      "enter the number 2\n"
     ]
    },
    {
     "name": "stdout",
     "output_type": "stream",
     "text": [
      "1*2=2\n",
      "2*2=4\n",
      "3*2=6\n",
      "4*2=8\n",
      "5*2=10\n",
      "6*2=12\n",
      "7*2=14\n",
      "8*2=16\n",
      "9*2=18\n",
      "10*2=20\n"
     ]
    }
   ],
   "source": [
    "num1=int(input(\"enter the number\"))\n",
    "for i in range(1,11):\n",
    "    print(f\"{i}*{num1}={i*num1}\")"
   ]
  },
  {
   "cell_type": "code",
   "execution_count": 139,
   "id": "9ab91be9-892c-4f73-b7d8-dd64c2f3db57",
   "metadata": {},
   "outputs": [
    {
     "name": "stdin",
     "output_type": "stream",
     "text": [
      "enter number -1\n"
     ]
    },
    {
     "name": "stdout",
     "output_type": "stream",
     "text": [
      "Number is Negetive\n"
     ]
    }
   ],
   "source": [
    "num=int(input(\"enter number\"))\n",
    "if num>0:\n",
    "   print(\"Number is Positive\")\n",
    "elif num<0:\n",
    "   print(\"Number is Negetive\")\n",
    "elif num==0:\n",
    "   print(\"Number is Zero\")"
   ]
  },
  {
   "cell_type": "code",
   "execution_count": 143,
   "id": "b4ceaf6a-0058-4cf7-81a9-a32e4bc94044",
   "metadata": {},
   "outputs": [
    {
     "name": "stdin",
     "output_type": "stream",
     "text": [
      "enter number 5\n"
     ]
    },
    {
     "name": "stdout",
     "output_type": "stream",
     "text": [
      "Number is odd\n"
     ]
    }
   ],
   "source": [
    "num=int(input(\"enter number\"))\n",
    "if num %2 ==0:\n",
    "   print(\"Number is even\")\n",
    "elif num %2 ==1:\n",
    "     print(\"Number is odd\")"
   ]
  },
  {
   "cell_type": "code",
   "execution_count": 3,
   "id": "e5643f7a-f1e7-4d1b-a1ae-7ae8ea3a7f23",
   "metadata": {},
   "outputs": [
    {
     "name": "stdin",
     "output_type": "stream",
     "text": [
      "enter the number 5\n"
     ]
    },
    {
     "name": "stdout",
     "output_type": "stream",
     "text": [
      "1*5=5\n",
      "2*5=10\n",
      "3*5=15\n",
      "4*5=20\n",
      "5*5=25\n",
      "6*5=30\n",
      "7*5=35\n",
      "8*5=40\n",
      "9*5=45\n",
      "10*5=50\n"
     ]
    }
   ],
   "source": [
    "num1=int(input(\"enter the number\"))\n",
    "for i in range(1,11):\n",
    "    print(f\"{i}*{num1}={i*num1}\")"
   ]
  },
  {
   "cell_type": "code",
   "execution_count": null,
   "id": "2c714bd8-16ff-4740-99b3-ed7edff2da9c",
   "metadata": {},
   "outputs": [],
   "source": []
  }
 ],
 "metadata": {
  "kernelspec": {
   "display_name": "Python [conda env:base] *",
   "language": "python",
   "name": "conda-base-py"
  },
  "language_info": {
   "codemirror_mode": {
    "name": "ipython",
    "version": 3
   },
   "file_extension": ".py",
   "mimetype": "text/x-python",
   "name": "python",
   "nbconvert_exporter": "python",
   "pygments_lexer": "ipython3",
   "version": "3.12.7"
  }
 },
 "nbformat": 4,
 "nbformat_minor": 5
}
