{
 "cells": [
  {
   "cell_type": "markdown",
   "id": "65bb142c-43c7-4f8b-962a-a5cd341d537e",
   "metadata": {},
   "source": [
    "List"
   ]
  },
  {
   "cell_type": "code",
   "execution_count": 1,
   "id": "386bc203-c9af-4f69-9d2b-e81e3e6e5087",
   "metadata": {},
   "outputs": [],
   "source": [
    "#Creating a list \n",
    "my_list = [1,2,3,4]"
   ]
  },
  {
   "cell_type": "code",
   "execution_count": 13,
   "id": "97289c6a-344f-460f-a455-e8f4b1b8c147",
   "metadata": {},
   "outputs": [
    {
     "data": {
      "text/plain": [
       "1"
      ]
     },
     "execution_count": 13,
     "metadata": {},
     "output_type": "execute_result"
    }
   ],
   "source": [
    "#Accessing an item\n",
    "first_item = my_list[0]\n",
    "first_item"
   ]
  },
  {
   "cell_type": "code",
   "execution_count": 15,
   "id": "24d170b2-cfa5-456d-8abe-4c308f190832",
   "metadata": {},
   "outputs": [
    {
     "data": {
      "text/plain": [
       "[10, 2, 3, 4]"
      ]
     },
     "execution_count": 15,
     "metadata": {},
     "output_type": "execute_result"
    }
   ],
   "source": [
    "#Modifying an item\n",
    "my_list[0]=10\n",
    "my_list"
   ]
  },
  {
   "cell_type": "code",
   "execution_count": 17,
   "id": "3ba8081d-6acd-48a9-984b-59c498afc070",
   "metadata": {},
   "outputs": [
    {
     "data": {
      "text/plain": [
       "[10, 2, 3, 4, 9]"
      ]
     },
     "execution_count": 17,
     "metadata": {},
     "output_type": "execute_result"
    }
   ],
   "source": [
    "#Adding an item\n",
    "my_list.append(9)\n",
    "my_list"
   ]
  },
  {
   "cell_type": "code",
   "execution_count": 19,
   "id": "a1470f57-e300-4580-8db5-6bf46dbb4dbd",
   "metadata": {},
   "outputs": [
    {
     "data": {
      "text/plain": [
       "[10, 2, 4, 9]"
      ]
     },
     "execution_count": 19,
     "metadata": {},
     "output_type": "execute_result"
    }
   ],
   "source": [
    "#Removing an item\n",
    "my_list.remove(3)\n",
    "my_list"
   ]
  },
  {
   "cell_type": "code",
   "execution_count": 23,
   "id": "63976d65-85a8-41f1-9117-a3107536a749",
   "metadata": {},
   "outputs": [
    {
     "data": {
      "text/plain": [
       "[2, 4]"
      ]
     },
     "execution_count": 23,
     "metadata": {},
     "output_type": "execute_result"
    }
   ],
   "source": [
    "#Slicing the list\n",
    "sliced_list = my_list[1:3]\n",
    "sliced_list"
   ]
  },
  {
   "cell_type": "code",
   "execution_count": 30,
   "id": "9051cd88-b361-4dc5-aff2-2658340b1b5b",
   "metadata": {},
   "outputs": [
    {
     "data": {
      "text/plain": [
       "{'name': 'Lama', 'age': 30}"
      ]
     },
     "execution_count": 30,
     "metadata": {},
     "output_type": "execute_result"
    }
   ],
   "source": [
    "#Adding a new key-value pair\n",
    "my_dict[\"age\"]=30\n",
    "my_dict"
   ]
  },
  {
   "cell_type": "code",
   "execution_count": 50,
   "id": "d272bc46-95fe-4996-9d22-66080620c3d2",
   "metadata": {},
   "outputs": [
    {
     "data": {
      "text/plain": [
       "[1, 2, 3, 4, 5, 6, 7, 8, 9, 10]"
      ]
     },
     "execution_count": 50,
     "metadata": {},
     "output_type": "execute_result"
    }
   ],
   "source": [
    "the_list=list(range(1,11))\n",
    "the_list"
   ]
  },
  {
   "cell_type": "code",
   "execution_count": 52,
   "id": "c2deedea-b430-42e5-b895-9f2b35bbf3f4",
   "metadata": {},
   "outputs": [
    {
     "data": {
      "text/plain": [
       "[6, 7, 8]"
      ]
     },
     "execution_count": 52,
     "metadata": {},
     "output_type": "execute_result"
    }
   ],
   "source": [
    "new_list=the_list[5:8]\n",
    "new_list"
   ]
  },
  {
   "cell_type": "code",
   "execution_count": 58,
   "id": "b4aa39e9-2722-40f8-a291-deaa09acae47",
   "metadata": {},
   "outputs": [
    {
     "data": {
      "text/plain": [
       "[1, 2, 3, 4, 5, 6, 7, 8, 9, 10, 15]"
      ]
     },
     "execution_count": 58,
     "metadata": {},
     "output_type": "execute_result"
    }
   ],
   "source": [
    "the_list.append(15)\n",
    "the_list"
   ]
  },
  {
   "cell_type": "code",
   "execution_count": 64,
   "id": "b5158dcc-95e3-4c43-88ea-3ec1ee36bf6b",
   "metadata": {},
   "outputs": [
    {
     "data": {
      "text/plain": [
       "[1, 20, 3, 4, 5, 6, 7, 8, 9, 10, 15]"
      ]
     },
     "execution_count": 64,
     "metadata": {},
     "output_type": "execute_result"
    }
   ],
   "source": [
    "the_list[1]=20\n",
    "the_list"
   ]
  },
  {
   "cell_type": "code",
   "execution_count": 66,
   "id": "8d17309c-9fd6-4c23-aee0-73748e871659",
   "metadata": {},
   "outputs": [
    {
     "data": {
      "text/plain": [
       "[3, 4, 5, 6, 7, 8, 9, 10, 15]"
      ]
     },
     "execution_count": 66,
     "metadata": {},
     "output_type": "execute_result"
    }
   ],
   "source": [
    "the_list2 =the_list[2:11]\n",
    "the_list2"
   ]
  },
  {
   "cell_type": "markdown",
   "id": "3ce3c3d2-8035-40ab-80cd-d3de2f364102",
   "metadata": {},
   "source": [
    "Dictionary\n",
    "(helps with the database)"
   ]
  },
  {
   "cell_type": "code",
   "execution_count": 3,
   "id": "fb4c7801-7b39-4639-9bd4-954e3eea7508",
   "metadata": {},
   "outputs": [
    {
     "data": {
      "text/plain": [
       "{'name': 'Lama', 'age': 25}"
      ]
     },
     "execution_count": 3,
     "metadata": {},
     "output_type": "execute_result"
    }
   ],
   "source": [
    "#Creating a dictionary\n",
    "my_dict = {\"name\": \"Lama\", \"age\":25}\n",
    "my_dict"
   ]
  },
  {
   "cell_type": "code",
   "execution_count": 7,
   "id": "83a553d7-aa14-43f9-9443-9552a7607729",
   "metadata": {},
   "outputs": [
    {
     "data": {
      "text/plain": [
       "{'name': 'Lama', 'age': 25, 'city': 'Tabuk'}"
      ]
     },
     "execution_count": 7,
     "metadata": {},
     "output_type": "execute_result"
    }
   ],
   "source": [
    "#Adding a new key-value pair\n",
    "my_dict[\"city\"]=\"Tabuk\"\n",
    "my_dict"
   ]
  },
  {
   "cell_type": "code",
   "execution_count": 38,
   "id": "eb09a200-3303-48b7-aaeb-ceaef54a4f66",
   "metadata": {},
   "outputs": [
    {
     "data": {
      "text/plain": [
       "{'age': 30}"
      ]
     },
     "execution_count": 38,
     "metadata": {},
     "output_type": "execute_result"
    }
   ],
   "source": [
    "#Removing a key-value pair\n",
    "del my_dict[\"city\"]\n",
    "my_dict"
   ]
  },
  {
   "cell_type": "code",
   "execution_count": 5,
   "id": "586818fe-3458-4b5a-b6f6-22b8048f93cb",
   "metadata": {},
   "outputs": [
    {
     "data": {
      "text/plain": [
       "'Lama'"
      ]
     },
     "execution_count": 5,
     "metadata": {},
     "output_type": "execute_result"
    }
   ],
   "source": [
    "#Accesing a value by key\n",
    "name=my_dict[\"name\"]\n",
    "name"
   ]
  },
  {
   "cell_type": "code",
   "execution_count": 16,
   "id": "3bcc9943-4b02-4c73-9ecb-736b3ec9e64d",
   "metadata": {},
   "outputs": [
    {
     "data": {
      "text/plain": [
       "{'name': 'Lama', 'age': 25, 'city': 'Tabuk', 'email': 'lamasultan@gmail.com'}"
      ]
     },
     "execution_count": 16,
     "metadata": {},
     "output_type": "execute_result"
    }
   ],
   "source": [
    "my_dict[\"email\"]=\"lamasultan@gmail.com\"\n",
    "my_dict"
   ]
  },
  {
   "cell_type": "code",
   "execution_count": 22,
   "id": "e0e27c2a-15f7-4a34-87aa-328854cd1d98",
   "metadata": {},
   "outputs": [
    {
     "data": {
      "text/plain": [
       "dict_values(['Lama', 25, 'Tabuk', 'lamasultan@gmail.com'])"
      ]
     },
     "execution_count": 22,
     "metadata": {},
     "output_type": "execute_result"
    }
   ],
   "source": [
    "#Printing values without key\n",
    "my_dict.values()"
   ]
  },
  {
   "cell_type": "code",
   "execution_count": 26,
   "id": "8ce3c5ac-e585-4fd4-9f7f-45b3d628b568",
   "metadata": {},
   "outputs": [
    {
     "data": {
      "text/plain": [
       "dict_keys(['name', 'age', 'city', 'email'])"
      ]
     },
     "execution_count": 26,
     "metadata": {},
     "output_type": "execute_result"
    }
   ],
   "source": [
    "#Printing key without value\n",
    "my_dict.keys()"
   ]
  },
  {
   "cell_type": "code",
   "execution_count": 32,
   "id": "763c532d-139f-4389-9d8a-c90932602d53",
   "metadata": {},
   "outputs": [
    {
     "data": {
      "text/plain": [
       "{'name': 'Lama', 'age': '21', 'city': 'Tabuk'}"
      ]
     },
     "execution_count": 32,
     "metadata": {},
     "output_type": "execute_result"
    }
   ],
   "source": [
    "dict_={\"name\":\"Lama\",\"age\":\"21\",\"city\":\"Tabuk\"}\n",
    "dict_"
   ]
  },
  {
   "cell_type": "code",
   "execution_count": 34,
   "id": "c5ac8033-44be-43e2-ae59-d96051b8af11",
   "metadata": {},
   "outputs": [
    {
     "data": {
      "text/plain": [
       "{'name': 'Lama', 'age': '30', 'city': 'Tabuk'}"
      ]
     },
     "execution_count": 34,
     "metadata": {},
     "output_type": "execute_result"
    }
   ],
   "source": [
    "dict_[\"age\"]=\"30\"\n",
    "dict_"
   ]
  },
  {
   "cell_type": "code",
   "execution_count": 36,
   "id": "7e8cb7e5-199e-433e-97b8-dead78d024c4",
   "metadata": {},
   "outputs": [
    {
     "data": {
      "text/plain": [
       "{'name': 'Lama', 'age': '30', 'city': 'Tabuk', 'email': 'lamasultan@gmail.com'}"
      ]
     },
     "execution_count": 36,
     "metadata": {},
     "output_type": "execute_result"
    }
   ],
   "source": [
    "dict_[\"email\"]=\"lamasultan@gmail.com\"\n",
    "dict_"
   ]
  },
  {
   "cell_type": "code",
   "execution_count": 38,
   "id": "0b619b50-563d-4b8e-b181-80f109cef5df",
   "metadata": {},
   "outputs": [
    {
     "data": {
      "text/plain": [
       "{'name': 'Lama', 'age': '30', 'email': 'lamasultan@gmail.com'}"
      ]
     },
     "execution_count": 38,
     "metadata": {},
     "output_type": "execute_result"
    }
   ],
   "source": [
    "del dict_[\"city\"]\n",
    "dict_"
   ]
  },
  {
   "cell_type": "code",
   "execution_count": 46,
   "id": "21cb6cf1-5f0e-4ed3-b72e-e93540df08bd",
   "metadata": {},
   "outputs": [
    {
     "data": {
      "text/plain": [
       "{'age', 'name'}"
      ]
     },
     "execution_count": 46,
     "metadata": {},
     "output_type": "execute_result"
    }
   ],
   "source": [
    "#WIP\n",
    "dict2={\"name\",\"age\"}\n",
    "dict2"
   ]
  },
  {
   "cell_type": "markdown",
   "id": "4b6bf7ce-d387-41c2-9cac-b8724fef68ef",
   "metadata": {},
   "source": [
    "Tuple (you can't edit it)"
   ]
  },
  {
   "cell_type": "code",
   "execution_count": 52,
   "id": "0f1c010c-e7ac-48fb-b76e-b23bbe18d7c7",
   "metadata": {},
   "outputs": [
    {
     "data": {
      "text/plain": [
       "(1, 2, 3, 'hello')"
      ]
     },
     "execution_count": 52,
     "metadata": {},
     "output_type": "execute_result"
    }
   ],
   "source": [
    "#Creating a tuple\n",
    "my_tuple=(1,2,3,\"hello\")\n",
    "my_tuple"
   ]
  },
  {
   "cell_type": "code",
   "execution_count": 55,
   "id": "1f8b3626-1437-4f5b-b5eb-d5246432fa00",
   "metadata": {},
   "outputs": [
    {
     "data": {
      "text/plain": [
       "2"
      ]
     },
     "execution_count": 55,
     "metadata": {},
     "output_type": "execute_result"
    }
   ],
   "source": [
    "my_tuple[1]"
   ]
  },
  {
   "cell_type": "code",
   "execution_count": 70,
   "id": "ab96bed4-5ca7-4de3-8985-ff3852995200",
   "metadata": {},
   "outputs": [],
   "source": [
    "my_t=list(my_tuple)"
   ]
  },
  {
   "cell_type": "code",
   "execution_count": 72,
   "id": "0a8b877f-c76d-4030-b976-b1d3bf88cc8a",
   "metadata": {},
   "outputs": [
    {
     "data": {
      "text/plain": [
       "[1, 10, 3, 'hello']"
      ]
     },
     "execution_count": 72,
     "metadata": {},
     "output_type": "execute_result"
    }
   ],
   "source": [
    "my_t[1]=10\n",
    "my_t"
   ]
  },
  {
   "cell_type": "code",
   "execution_count": 76,
   "id": "15c18f51-9793-4f90-b98e-a3145f893428",
   "metadata": {},
   "outputs": [],
   "source": [
    "my_t=tuple(my_typle)"
   ]
  },
  {
   "cell_type": "code",
   "execution_count": 78,
   "id": "13137aac-5732-4318-be04-645d5afef8fe",
   "metadata": {},
   "outputs": [
    {
     "data": {
      "text/plain": [
       "(1, 10, 3, 'hello')"
      ]
     },
     "execution_count": 78,
     "metadata": {},
     "output_type": "execute_result"
    }
   ],
   "source": [
    "my_t"
   ]
  },
  {
   "cell_type": "markdown",
   "id": "4016499a-9a6d-425b-b59a-e94921574e8c",
   "metadata": {},
   "source": [
    "Set"
   ]
  },
  {
   "cell_type": "code",
   "execution_count": 81,
   "id": "4482fb04-935a-46ea-a9e2-b0b229e1608a",
   "metadata": {},
   "outputs": [
    {
     "data": {
      "text/plain": [
       "{1, 2, 3, 4}"
      ]
     },
     "execution_count": 81,
     "metadata": {},
     "output_type": "execute_result"
    }
   ],
   "source": [
    "my_set={1,2,3,4}\n",
    "my_set"
   ]
  },
  {
   "cell_type": "code",
   "execution_count": 83,
   "id": "a888c8ee-d3b2-468e-a46a-d07ccc5244b4",
   "metadata": {},
   "outputs": [
    {
     "data": {
      "text/plain": [
       "{1, 2, 3, 4, 5}"
      ]
     },
     "execution_count": 83,
     "metadata": {},
     "output_type": "execute_result"
    }
   ],
   "source": [
    "my_set.add(5)\n",
    "my_set"
   ]
  },
  {
   "cell_type": "code",
   "execution_count": 85,
   "id": "ca2f5775-0005-4641-a191-6e6c1b433b34",
   "metadata": {},
   "outputs": [
    {
     "data": {
      "text/plain": [
       "{1, 2, 3, 4, 5, 6, 7}"
      ]
     },
     "execution_count": 85,
     "metadata": {},
     "output_type": "execute_result"
    }
   ],
   "source": [
    "my_set.update([6,7])\n",
    "my_set"
   ]
  },
  {
   "cell_type": "code",
   "execution_count": 87,
   "id": "52586c2d-2382-4c0e-9de5-8bab29ec52dd",
   "metadata": {},
   "outputs": [
    {
     "data": {
      "text/plain": [
       "{1, 2, 4, 5, 6, 7}"
      ]
     },
     "execution_count": 87,
     "metadata": {},
     "output_type": "execute_result"
    }
   ],
   "source": [
    "my_set.remove(3)\n",
    "my_set"
   ]
  },
  {
   "cell_type": "code",
   "execution_count": 89,
   "id": "c41ba4ee-159d-4a9d-8df7-f4360eda9cf9",
   "metadata": {},
   "outputs": [
    {
     "data": {
      "text/plain": [
       "{1, 2, 5, 6, 7}"
      ]
     },
     "execution_count": 89,
     "metadata": {},
     "output_type": "execute_result"
    }
   ],
   "source": [
    "my_set.discard(4)\n",
    "my_set"
   ]
  },
  {
   "cell_type": "code",
   "execution_count": 107,
   "id": "71ffaeda-1e7e-46ba-b0ee-dd5b948b3ccf",
   "metadata": {},
   "outputs": [],
   "source": [
    "set1={1,2,3}\n",
    "set2={3,4,5}"
   ]
  },
  {
   "cell_type": "code",
   "execution_count": 117,
   "id": "be5db75e-ac61-4a99-aebf-f856b967699e",
   "metadata": {},
   "outputs": [
    {
     "data": {
      "text/plain": [
       "{1, 2, 3, 4, 5}"
      ]
     },
     "execution_count": 117,
     "metadata": {},
     "output_type": "execute_result"
    }
   ],
   "source": [
    "set1|set2"
   ]
  },
  {
   "cell_type": "code",
   "execution_count": 119,
   "id": "33cff154-f159-4ba4-b551-6992ea2ecffa",
   "metadata": {},
   "outputs": [
    {
     "data": {
      "text/plain": [
       "{3}"
      ]
     },
     "execution_count": 119,
     "metadata": {},
     "output_type": "execute_result"
    }
   ],
   "source": [
    "set1&set2"
   ]
  },
  {
   "cell_type": "code",
   "execution_count": 121,
   "id": "2d81a338-641a-461e-8e77-358ee7dd8823",
   "metadata": {},
   "outputs": [
    {
     "data": {
      "text/plain": [
       "{1, 2}"
      ]
     },
     "execution_count": 121,
     "metadata": {},
     "output_type": "execute_result"
    }
   ],
   "source": [
    "set1-set2"
   ]
  },
  {
   "cell_type": "code",
   "execution_count": 123,
   "id": "939c067d-c04b-42c5-a342-d2aab40dcc52",
   "metadata": {},
   "outputs": [
    {
     "data": {
      "text/plain": [
       "{4, 5}"
      ]
     },
     "execution_count": 123,
     "metadata": {},
     "output_type": "execute_result"
    }
   ],
   "source": [
    "set2-set1"
   ]
  },
  {
   "cell_type": "code",
   "execution_count": 189,
   "id": "ad23141d-17d7-4d25-b347-6d185801a5c9",
   "metadata": {},
   "outputs": [],
   "source": [
    "list_={10,20,60,10,50}"
   ]
  },
  {
   "cell_type": "code",
   "execution_count": 139,
   "id": "6adae2f2-8428-4957-bd05-d067f5116739",
   "metadata": {},
   "outputs": [
    {
     "name": "stdout",
     "output_type": "stream",
     "text": [
      "10\n",
      "20\n",
      "60\n"
     ]
    }
   ],
   "source": [
    "for i in list_:\n",
    "    print (i)"
   ]
  },
  {
   "cell_type": "code",
   "execution_count": 185,
   "id": "d11e9725-b9e0-447d-a54e-c6b938e3ab84",
   "metadata": {},
   "outputs": [
    {
     "name": "stdout",
     "output_type": "stream",
     "text": [
      "90\n"
     ]
    }
   ],
   "source": [
    "list_={10,20,60}\n",
    "s=0\n",
    "for i in list_:\n",
    "    s=i+s\n",
    "print(s)"
   ]
  },
  {
   "cell_type": "code",
   "execution_count": 161,
   "id": "5466d2fb-c802-4d6a-b4d5-978bc9f1775f",
   "metadata": {},
   "outputs": [
    {
     "name": "stdout",
     "output_type": "stream",
     "text": [
      "max: 60\n",
      "min: 10\n"
     ]
    }
   ],
   "source": [
    "max_num = max(list_)\n",
    "min_num = min(list_)\n",
    "print(\"max:\", max_num)\n",
    "print(\"min:\", min_num)"
   ]
  },
  {
   "cell_type": "code",
   "execution_count": 197,
   "id": "36b6868c-a574-467e-a359-0e38a824f7da",
   "metadata": {},
   "outputs": [
    {
     "name": "stdout",
     "output_type": "stream",
     "text": [
      "2\n",
      "4\n",
      "6\n"
     ]
    }
   ],
   "source": [
    "list_ = [1, 2, 3, 4, 5, 6]\n",
    "for i in list_:\n",
    "       if i % 2 == 0:\n",
    "           print(i)"
   ]
  },
  {
   "cell_type": "code",
   "execution_count": 211,
   "id": "434f4ba2-a10f-47a3-8a97-4093cc51e0dc",
   "metadata": {},
   "outputs": [
    {
     "name": "stdout",
     "output_type": "stream",
     "text": [
      "10 occur 3 time \n",
      "20 occur 2 time \n",
      "45 occur 1 time \n",
      "99 occur 1 time \n",
      "2 occur 1 time \n"
     ]
    }
   ],
   "source": [
    "numbers_list = [10, 20, 10, 45, 20, 99, 2, 10]\n",
    "\n",
    "counted_numbers = []\n",
    "for i in numbers_list:\n",
    "    if i not in counted_numbers:\n",
    "        count = numbers_list.count(i) \n",
    "        counted_numbers.append(i)  \n",
    "        print(f\"{i} occur {count} time \")"
   ]
  },
  {
   "cell_type": "code",
   "execution_count": null,
   "id": "b4b2bb33-164b-49ca-b68d-742b835befe2",
   "metadata": {},
   "outputs": [],
   "source": []
  }
 ],
 "metadata": {
  "kernelspec": {
   "display_name": "Python [conda env:base] *",
   "language": "python",
   "name": "conda-base-py"
  },
  "language_info": {
   "codemirror_mode": {
    "name": "ipython",
    "version": 3
   },
   "file_extension": ".py",
   "mimetype": "text/x-python",
   "name": "python",
   "nbconvert_exporter": "python",
   "pygments_lexer": "ipython3",
   "version": "3.12.7"
  }
 },
 "nbformat": 4,
 "nbformat_minor": 5
}
