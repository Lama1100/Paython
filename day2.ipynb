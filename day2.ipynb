{
 "cells": [
  {
   "cell_type": "markdown",
   "id": "65bb142c-43c7-4f8b-962a-a5cd341d537e",
   "metadata": {},
   "source": [
    "List"
   ]
  },
  {
   "cell_type": "code",
   "execution_count": 1,
   "id": "386bc203-c9af-4f69-9d2b-e81e3e6e5087",
   "metadata": {},
   "outputs": [],
   "source": [
    "#Creating a list \n",
    "my_list = [1,2,3,4]"
   ]
  },
  {
   "cell_type": "code",
   "execution_count": 13,
   "id": "97289c6a-344f-460f-a455-e8f4b1b8c147",
   "metadata": {},
   "outputs": [
    {
     "data": {
      "text/plain": [
       "1"
      ]
     },
     "execution_count": 13,
     "metadata": {},
     "output_type": "execute_result"
    }
   ],
   "source": [
    "#Accessing an item\n",
    "first_item = my_list[0]\n",
    "first_item"
   ]
  },
  {
   "cell_type": "code",
   "execution_count": 15,
   "id": "24d170b2-cfa5-456d-8abe-4c308f190832",
   "metadata": {},
   "outputs": [
    {
     "data": {
      "text/plain": [
       "[10, 2, 3, 4]"
      ]
     },
     "execution_count": 15,
     "metadata": {},
     "output_type": "execute_result"
    }
   ],
   "source": [
    "#Modifying an item\n",
    "my_list[0]=10\n",
    "my_list"
   ]
  },
  {
   "cell_type": "code",
   "execution_count": 17,
   "id": "3ba8081d-6acd-48a9-984b-59c498afc070",
   "metadata": {},
   "outputs": [
    {
     "data": {
      "text/plain": [
       "[10, 2, 3, 4, 9]"
      ]
     },
     "execution_count": 17,
     "metadata": {},
     "output_type": "execute_result"
    }
   ],
   "source": [
    "#Adding an item\n",
    "my_list.append(9)\n",
    "my_list"
   ]
  },
  {
   "cell_type": "code",
   "execution_count": 19,
   "id": "a1470f57-e300-4580-8db5-6bf46dbb4dbd",
   "metadata": {},
   "outputs": [
    {
     "data": {
      "text/plain": [
       "[10, 2, 4, 9]"
      ]
     },
     "execution_count": 19,
     "metadata": {},
     "output_type": "execute_result"
    }
   ],
   "source": [
    "#Removing an item\n",
    "my_list.remove(3)\n",
    "my_list"
   ]
  },
  {
   "cell_type": "code",
   "execution_count": 23,
   "id": "63976d65-85a8-41f1-9117-a3107536a749",
   "metadata": {},
   "outputs": [
    {
     "data": {
      "text/plain": [
       "[2, 4]"
      ]
     },
     "execution_count": 23,
     "metadata": {},
     "output_type": "execute_result"
    }
   ],
   "source": [
    "#Slicing the list\n",
    "sliced_list = my_list[1:3]\n",
    "sliced_list"
   ]
  },
  {
   "cell_type": "code",
   "execution_count": 28,
   "id": "fb4c7801-7b39-4639-9bd4-954e3eea7508",
   "metadata": {},
   "outputs": [
    {
     "data": {
      "text/plain": [
       "{'name': 'Lama', 'age': 25}"
      ]
     },
     "execution_count": 28,
     "metadata": {},
     "output_type": "execute_result"
    }
   ],
   "source": [
    "#Creating a dictionary\n",
    "my_dict = {\"name\": \"Lama\", \"age\":25}\n",
    "my_dict"
   ]
  },
  {
   "cell_type": "code",
   "execution_count": 30,
   "id": "9051cd88-b361-4dc5-aff2-2658340b1b5b",
   "metadata": {},
   "outputs": [
    {
     "data": {
      "text/plain": [
       "{'name': 'Lama', 'age': 30}"
      ]
     },
     "execution_count": 30,
     "metadata": {},
     "output_type": "execute_result"
    }
   ],
   "source": [
    "#Adding a new key-value pair\n",
    "my_dict[\"age\"]=30\n",
    "my_dict"
   ]
  },
  {
   "cell_type": "code",
   "execution_count": 34,
   "id": "83a553d7-aa14-43f9-9443-9552a7607729",
   "metadata": {},
   "outputs": [
    {
     "data": {
      "text/plain": [
       "{'age': 30, 'city': 'Tabuk'}"
      ]
     },
     "execution_count": 34,
     "metadata": {},
     "output_type": "execute_result"
    }
   ],
   "source": [
    "#Adding a new key-value pair\n",
    "my_dict[\"city\"]=\"Tabuk\"\n",
    "my_dict"
   ]
  },
  {
   "cell_type": "code",
   "execution_count": 38,
   "id": "eb09a200-3303-48b7-aaeb-ceaef54a4f66",
   "metadata": {},
   "outputs": [
    {
     "data": {
      "text/plain": [
       "{'age': 30}"
      ]
     },
     "execution_count": 38,
     "metadata": {},
     "output_type": "execute_result"
    }
   ],
   "source": [
    "#Removing a key-value pair\n",
    "del my_dict[\"city\"]\n",
    "my_dict"
   ]
  },
  {
   "cell_type": "code",
   "execution_count": 50,
   "id": "d272bc46-95fe-4996-9d22-66080620c3d2",
   "metadata": {},
   "outputs": [
    {
     "data": {
      "text/plain": [
       "[1, 2, 3, 4, 5, 6, 7, 8, 9, 10]"
      ]
     },
     "execution_count": 50,
     "metadata": {},
     "output_type": "execute_result"
    }
   ],
   "source": [
    "the_list=list(range(1,11))\n",
    "the_list"
   ]
  },
  {
   "cell_type": "code",
   "execution_count": 52,
   "id": "c2deedea-b430-42e5-b895-9f2b35bbf3f4",
   "metadata": {},
   "outputs": [
    {
     "data": {
      "text/plain": [
       "[6, 7, 8]"
      ]
     },
     "execution_count": 52,
     "metadata": {},
     "output_type": "execute_result"
    }
   ],
   "source": [
    "new_list=the_list[5:8]\n",
    "new_list"
   ]
  },
  {
   "cell_type": "code",
   "execution_count": 58,
   "id": "b4aa39e9-2722-40f8-a291-deaa09acae47",
   "metadata": {},
   "outputs": [
    {
     "data": {
      "text/plain": [
       "[1, 2, 3, 4, 5, 6, 7, 8, 9, 10, 15]"
      ]
     },
     "execution_count": 58,
     "metadata": {},
     "output_type": "execute_result"
    }
   ],
   "source": [
    "the_list.append(15)\n",
    "the_list"
   ]
  },
  {
   "cell_type": "code",
   "execution_count": 64,
   "id": "b5158dcc-95e3-4c43-88ea-3ec1ee36bf6b",
   "metadata": {},
   "outputs": [
    {
     "data": {
      "text/plain": [
       "[1, 20, 3, 4, 5, 6, 7, 8, 9, 10, 15]"
      ]
     },
     "execution_count": 64,
     "metadata": {},
     "output_type": "execute_result"
    }
   ],
   "source": [
    "the_list[1]=20\n",
    "the_list"
   ]
  },
  {
   "cell_type": "code",
   "execution_count": 66,
   "id": "8d17309c-9fd6-4c23-aee0-73748e871659",
   "metadata": {},
   "outputs": [
    {
     "data": {
      "text/plain": [
       "[3, 4, 5, 6, 7, 8, 9, 10, 15]"
      ]
     },
     "execution_count": 66,
     "metadata": {},
     "output_type": "execute_result"
    }
   ],
   "source": [
    "the_list2 =the_list[2:11]\n",
    "the_list2"
   ]
  },
  {
   "cell_type": "code",
   "execution_count": null,
   "id": "586818fe-3458-4b5a-b6f6-22b8048f93cb",
   "metadata": {},
   "outputs": [],
   "source": []
  }
 ],
 "metadata": {
  "kernelspec": {
   "display_name": "Python [conda env:base] *",
   "language": "python",
   "name": "conda-base-py"
  },
  "language_info": {
   "codemirror_mode": {
    "name": "ipython",
    "version": 3
   },
   "file_extension": ".py",
   "mimetype": "text/x-python",
   "name": "python",
   "nbconvert_exporter": "python",
   "pygments_lexer": "ipython3",
   "version": "3.12.7"
  }
 },
 "nbformat": 4,
 "nbformat_minor": 5
}
