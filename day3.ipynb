{
 "cells": [
  {
   "cell_type": "code",
   "execution_count": 3,
   "id": "d8b05928-dffe-434b-8475-3b263d316009",
   "metadata": {},
   "outputs": [],
   "source": [
    "with open(\"output.txt\",\"w\")as file:\n",
    "      file.write(\"Hello world\")"
   ]
  },
  {
   "cell_type": "code",
   "execution_count": 11,
   "id": "b36d0c4d-dfa7-405d-9ae5-c29e54b0fcc4",
   "metadata": {},
   "outputs": [],
   "source": [
    "l1=[\"Lama\\n\",\"Lama\\n\",\"Lama\\n\"]\n",
    "with open(\"output.txt\",\"w\")as file:\n",
    "      file.writelines(l1)"
   ]
  },
  {
   "cell_type": "code",
   "execution_count": 19,
   "id": "dbdd6ffb-95b2-49f0-afb2-31a6a0b3308d",
   "metadata": {},
   "outputs": [
    {
     "name": "stdout",
     "output_type": "stream",
     "text": [
      "Lama\n",
      "Lama\n",
      "Lama\n",
      "\n"
     ]
    },
    {
     "data": {
      "text/plain": [
       "str"
      ]
     },
     "execution_count": 19,
     "metadata": {},
     "output_type": "execute_result"
    }
   ],
   "source": [
    "with open(\"output.txt\",\"r\")as file:\n",
    "    content=file.read()\n",
    "    print(content)\n",
    "type(content)"
   ]
  },
  {
   "cell_type": "code",
   "execution_count": 38,
   "id": "89b7adb0-fd06-4d85-ae5e-a0af7588c1dd",
   "metadata": {},
   "outputs": [
    {
     "name": "stdout",
     "output_type": "stream",
     "text": [
      "Lama\n",
      "Lama\n",
      "Lama\n"
     ]
    },
    {
     "data": {
      "text/plain": [
       "list"
      ]
     },
     "execution_count": 38,
     "metadata": {},
     "output_type": "execute_result"
    }
   ],
   "source": [
    "with open(\"output.txt\",\"r\")as file:\n",
    "    lines=file.readlines()\n",
    "    for line in lines:\n",
    "         print(line.strip())\n",
    "type(lines)"
   ]
  },
  {
   "cell_type": "code",
   "execution_count": 32,
   "id": "57b40921-c5fc-4c24-9be7-d84f3044b111",
   "metadata": {},
   "outputs": [],
   "source": [
    "with open('C:\\\\Users\\\\Lama\\\\Desktop\\\\Screenshot 2024-11-30 183513.png', 'rb') as file:\n",
    "    binary_data=file.read()\n",
    "\n",
    "with open('copy_img.jpg','wb')as new_file:\n",
    "    new_file.write(binary_data)"
   ]
  },
  {
   "cell_type": "code",
   "execution_count": null,
   "id": "0b28b8e2-4123-4d7a-ab9e-456dbbe7860d",
   "metadata": {},
   "outputs": [],
   "source": []
  }
 ],
 "metadata": {
  "kernelspec": {
   "display_name": "Python [conda env:base] *",
   "language": "python",
   "name": "conda-base-py"
  },
  "language_info": {
   "codemirror_mode": {
    "name": "ipython",
    "version": 3
   },
   "file_extension": ".py",
   "mimetype": "text/x-python",
   "name": "python",
   "nbconvert_exporter": "python",
   "pygments_lexer": "ipython3",
   "version": "3.12.7"
  }
 },
 "nbformat": 4,
 "nbformat_minor": 5
}
